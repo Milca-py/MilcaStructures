{
 "cells": [
  {
   "cell_type": "code",
   "execution_count": 7,
   "metadata": {},
   "outputs": [
    {
     "data": {
      "text/latex": [
       "$\\displaystyle \\left[\\begin{matrix}\\frac{L \\left(2 p_{i} + p_{j}\\right)}{6}\\\\\\frac{0.0833333333333333 L \\left(4.0 \\phi q_{i} + 2.0 \\phi q_{j} + 4.2 q_{i} + 1.8 q_{j}\\right)}{\\phi + 1}\\\\\\frac{L^{2} \\left(0.0416666666666667 \\phi q_{i} + 0.0416666666666667 \\phi q_{j} + 0.05 q_{i} + 0.0333333333333333 q_{j}\\right)}{\\phi + 1}\\\\\\frac{L \\left(p_{i} + 2 p_{j}\\right)}{6}\\\\\\frac{0.0833333333333333 L \\left(2.0 \\phi q_{i} + 4.0 \\phi q_{j} + 1.8 q_{i} + 4.2 q_{j}\\right)}{\\phi + 1}\\\\\\frac{L^{2} \\left(- 0.0416666666666667 \\phi q_{i} - 0.0416666666666667 \\phi q_{j} - 0.0333333333333333 q_{i} - 0.05 q_{j}\\right)}{\\phi + 1}\\end{matrix}\\right]$"
      ],
      "text/plain": [
       "Matrix([\n",
       "[                                                                                            L*(2*p_i + p_j)/6],\n",
       "[                               0.0833333333333333*L*(4.0*phi*q_i + 2.0*phi*q_j + 4.2*q_i + 1.8*q_j)/(phi + 1)],\n",
       "[ L**2*(0.0416666666666667*phi*q_i + 0.0416666666666667*phi*q_j + 0.05*q_i + 0.0333333333333333*q_j)/(phi + 1)],\n",
       "[                                                                                            L*(p_i + 2*p_j)/6],\n",
       "[                               0.0833333333333333*L*(2.0*phi*q_i + 4.0*phi*q_j + 1.8*q_i + 4.2*q_j)/(phi + 1)],\n",
       "[L**2*(-0.0416666666666667*phi*q_i - 0.0416666666666667*phi*q_j - 0.0333333333333333*q_i - 0.05*q_j)/(phi + 1)]])"
      ]
     },
     "execution_count": 7,
     "metadata": {},
     "output_type": "execute_result"
    }
   ],
   "source": [
    "import sympy as sp\n",
    "\n",
    "# Declarar variables simbólicas\n",
    "q_i, q_j, p_i, p_j, L, phi = sp.symbols('q_i q_j p_i p_j L phi')\n",
    "\n",
    "# Paso 1: Coeficientes A y B de la carga distribuida lineal\n",
    "A = (q_j - q_i) / L\n",
    "B = q_i\n",
    "\n",
    "# Paso 2: Matriz M y vector N\n",
    "M = sp.Matrix([\n",
    "    [L**2 / 2, L],\n",
    "    [L**3 * (2 - phi) / 12, L**2 / 2]\n",
    "])\n",
    "\n",
    "N = sp.Matrix([\n",
    "    A * L**4 / 24 + B * L**3 / 6,\n",
    "    A * L**5 * (0.6 - phi) / 72 + B * L**4 * (1 - phi) / 24\n",
    "])\n",
    "\n",
    "# Paso 3: Resolver M * C = N\n",
    "C = M.LUsolve(N)  # Más estable y simbólico que inv(M) * N\n",
    "\n",
    "# Paso 4: Construcción del vector Q\n",
    "Q = sp.Matrix([\n",
    "    (2 * p_i + p_j) * L / 6,\n",
    "    C[0],\n",
    "    -C[1],\n",
    "    (p_i + 2 * p_j) * L / 6,\n",
    "    -(-A * L**2 / 2 - B * L + C[0]),\n",
    "    (-A * L**3 / 6 - B * L**2 / 2 + C[0] * L + C[1])\n",
    "])\n",
    "\n",
    "# Mostrar el resultado simbólico\n",
    "Q_simplified = Q.applyfunc(sp.simplify)\n",
    "Q_simplified\n",
    "\n"
   ]
  },
  {
   "cell_type": "markdown",
   "metadata": {},
   "source": [
    "$\n",
    "\\left[\\begin{matrix}\n",
    "\\frac{L \\left(2 p_{i} + p_{j}\\right)}{6} \\\\\n",
    "\\frac{\\frac{1}{12} L \\left(4 \\phi q_{i} + 2 \\phi q_{j} + \\frac{21}{5} q_{i} + \\frac{9}{5} q_{j}\\right)}{\\phi + 1} \\\\\n",
    "\\frac{L^{2} \\left(\\frac{1}{24} \\phi q_{i} + \\frac{1}{24} \\phi q_{j} + \\frac{1}{20} q_{i} + \\frac{1}{30} q_{j}\\right)}{\\phi + 1} \\\\\n",
    "\\frac{L \\left(p_{i} + 2 p_{j}\\right)}{6} \\\\\n",
    "\\frac{\\frac{1}{12} L \\left(2 \\phi q_{i} + 4 \\phi q_{j} + \\frac{9}{5} q_{i} + \\frac{21}{5} q_{j}\\right)}{\\phi + 1} \\\\\n",
    "\\frac{L^{2} \\left(- \\frac{1}{24} \\phi q_{i} - \\frac{1}{24} \\phi q_{j} - \\frac{1}{30} q_{i} - \\frac{1}{20} q_{j}\\right)}{\\phi + 1}\n",
    "\\end{matrix}\\right]\n",
    "$\n"
   ]
  }
 ],
 "metadata": {
  "kernelspec": {
   "display_name": "Python 3",
   "language": "python",
   "name": "python3"
  },
  "language_info": {
   "codemirror_mode": {
    "name": "ipython",
    "version": 3
   },
   "file_extension": ".py",
   "mimetype": "text/x-python",
   "name": "python",
   "nbconvert_exporter": "python",
   "pygments_lexer": "ipython3",
   "version": "3.11.7"
  }
 },
 "nbformat": 4,
 "nbformat_minor": 2
}
