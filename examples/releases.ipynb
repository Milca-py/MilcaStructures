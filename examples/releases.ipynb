{
 "cells": [
  {
   "cell_type": "code",
   "execution_count": 1,
   "id": "c667fef2",
   "metadata": {},
   "outputs": [],
   "source": [
    "import sympy as sp"
   ]
  },
  {
   "cell_type": "code",
   "execution_count": 2,
   "id": "94c9c7f7",
   "metadata": {},
   "outputs": [],
   "source": [
    "E, A, I, phi, L = sp.symbols('E A I phi L')\n",
    "a, b, pi, pj = sp.symbols('a b p_i p_j')"
   ]
  },
  {
   "cell_type": "markdown",
   "id": "91b375f8",
   "metadata": {},
   "source": [
    "### DEFINICIÓN DE MATRIZ DE RIGIDEZ LOCAL Y VECTOR DE CARGAS LOCAL"
   ]
  },
  {
   "cell_type": "code",
   "execution_count": 3,
   "id": "8fd369d2",
   "metadata": {},
   "outputs": [
    {
     "data": {
      "text/latex": [
       "$\\displaystyle \\left[\\begin{matrix}\\frac{A E}{L} & 0 & 0 & - \\frac{A E}{L} & 0 & 0\\\\0 & \\frac{12 E I}{L^{3} \\left(\\phi + 1\\right)} & \\frac{6 E I}{L^{2} \\left(\\phi + 1\\right)} & 0 & - \\frac{12 E I}{L^{3} \\left(\\phi + 1\\right)} & \\frac{6 E I}{L^{2} \\left(\\phi + 1\\right)}\\\\0 & \\frac{6 E I}{L^{2} \\left(\\phi + 1\\right)} & \\frac{E I \\left(\\phi + 4\\right)}{L \\left(\\phi + 1\\right)} & 0 & - \\frac{6 E I}{L^{2} \\left(\\phi + 1\\right)} & \\frac{E I \\left(2 - \\phi\\right)}{L \\left(\\phi + 1\\right)}\\\\- \\frac{A E}{L} & 0 & 0 & \\frac{A E}{L} & 0 & 0\\\\0 & - \\frac{12 E I}{L^{3} \\left(\\phi + 1\\right)} & - \\frac{6 E I}{L^{2} \\left(\\phi + 1\\right)} & 0 & \\frac{12 E I}{L^{3} \\left(\\phi + 1\\right)} & - \\frac{6 E I}{L^{2} \\left(\\phi + 1\\right)}\\\\0 & \\frac{6 E I}{L^{2} \\left(\\phi + 1\\right)} & \\frac{E I \\left(2 - \\phi\\right)}{L \\left(\\phi + 1\\right)} & 0 & - \\frac{6 E I}{L^{2} \\left(\\phi + 1\\right)} & \\frac{E I \\left(\\phi + 4\\right)}{L \\left(\\phi + 1\\right)}\\end{matrix}\\right]$"
      ],
      "text/plain": [
       "Matrix([\n",
       "[ A*E/L,                        0,                           0, -A*E/L,                        0,                           0],\n",
       "[     0,  12*E*I/(L**3*(phi + 1)),      6*E*I/(L**2*(phi + 1)),      0, -12*E*I/(L**3*(phi + 1)),      6*E*I/(L**2*(phi + 1))],\n",
       "[     0,   6*E*I/(L**2*(phi + 1)), E*I*(phi + 4)/(L*(phi + 1)),      0,  -6*E*I/(L**2*(phi + 1)), E*I*(2 - phi)/(L*(phi + 1))],\n",
       "[-A*E/L,                        0,                           0,  A*E/L,                        0,                           0],\n",
       "[     0, -12*E*I/(L**3*(phi + 1)),     -6*E*I/(L**2*(phi + 1)),      0,  12*E*I/(L**3*(phi + 1)),     -6*E*I/(L**2*(phi + 1))],\n",
       "[     0,   6*E*I/(L**2*(phi + 1)), E*I*(2 - phi)/(L*(phi + 1)),      0,  -6*E*I/(L**2*(phi + 1)), E*I*(phi + 4)/(L*(phi + 1))]])"
      ]
     },
     "execution_count": 3,
     "metadata": {},
     "output_type": "execute_result"
    }
   ],
   "source": [
    "k11 = E * A / L\n",
    "k22 = 12 * E * I / (L**3 * (1 + phi))\n",
    "k23 = 6 * E * I / (L**2 * (1 + phi))\n",
    "k33 = (4 + phi) * E * I / (L * (1 + phi))\n",
    "k66 = (2 - phi) * E * I / (L * (1 + phi))\n",
    "\n",
    "k = sp.Matrix([\n",
    "    [ k11,   0,    0,   -k11,   0,    0   ],\n",
    "    [  0,   k22,  k23,    0,   -k22,  k23 ],\n",
    "    [  0,   k23,  k33,    0,   -k23,  k66 ],\n",
    "    [-k11,   0,    0,    k11,   0,    0   ],\n",
    "    [  0,  -k22, -k23,    0,    k22, -k23 ],\n",
    "    [  0,   k23,  k66,    0,   -k23,  k33 ]\n",
    "])\n",
    "k"
   ]
  },
  {
   "cell_type": "code",
   "execution_count": 4,
   "id": "b66a6be9",
   "metadata": {},
   "outputs": [
    {
     "data": {
      "text/latex": [
       "$\\displaystyle \\left[\\begin{matrix}\\frac{L \\left(2 p_{i} + p_{j}\\right)}{6}\\\\\\frac{L^{2} a \\left(10 \\phi + 9\\right)}{60 \\left(\\phi + 1\\right)} + \\frac{L b}{2}\\\\\\frac{L^{3} a \\left(5 \\phi + 4\\right)}{120 \\left(\\phi + 1\\right)} + \\frac{L^{2} b}{12}\\\\\\frac{L \\left(p_{i} + 2 p_{j}\\right)}{6}\\\\\\frac{L^{2} a \\left(20 \\phi + 21\\right)}{60 \\left(\\phi + 1\\right)} + \\frac{L b}{2}\\\\- \\frac{L^{3} a \\left(5 \\phi + 6\\right)}{120 \\left(\\phi + 1\\right)} - \\frac{L^{2} b}{12}\\end{matrix}\\right]$"
      ],
      "text/plain": [
       "Matrix([\n",
       "[                              L*(2*p_i + p_j)/6],\n",
       "[     L**2*a*(10*phi + 9)/(60*(phi + 1)) + L*b/2],\n",
       "[ L**3*a*(5*phi + 4)/(120*(phi + 1)) + L**2*b/12],\n",
       "[                              L*(p_i + 2*p_j)/6],\n",
       "[    L**2*a*(20*phi + 21)/(60*(phi + 1)) + L*b/2],\n",
       "[-L**3*a*(5*phi + 6)/(120*(phi + 1)) - L**2*b/12]])"
      ]
     },
     "execution_count": 4,
     "metadata": {},
     "output_type": "execute_result"
    }
   ],
   "source": [
    "N1 = (2 * pi + pj) * L / 6\n",
    "V1 = b * L / 2 + a * L**2 / 60 * ((10 * phi + 9) / (phi + 1))\n",
    "M1 = b * L**2 / 12 + a * L**3 / 120 * ((5 * phi + 4) / (phi + 1))\n",
    "N2 = (pi + 2 * pj) * L / 6\n",
    "V2 = b * L / 2 + a * L**2 / 60 * ((20 * phi + 21) / (phi + 1))\n",
    "M2 = -(b * L**2 / 12 + a * L**3 / 120 * ((5 * phi + 6) / (phi + 1)))\n",
    "q = sp.Matrix([N1, V1, M1, N2, V2, M2])\n",
    "q"
   ]
  },
  {
   "cell_type": "markdown",
   "id": "b4a30a11",
   "metadata": {},
   "source": [
    "## **LIBERACION DE ROTACIONES**"
   ]
  },
  {
   "cell_type": "markdown",
   "id": "8af604bb",
   "metadata": {},
   "source": [
    "### **rotacion inicial**"
   ]
  },
  {
   "cell_type": "code",
   "execution_count": 5,
   "id": "9648b3b9",
   "metadata": {},
   "outputs": [],
   "source": [
    "freeDof = [2]\n",
    "\n",
    "k1 = k[:,freeDof]\n",
    "k2 = k[freeDof,:]\n",
    "k3 = sp.Matrix([k[freeDof,freeDof]])\n",
    "invk3 = sp.Inverse(k3)\n",
    "kp = k - k1 @ invk3 @ k2\n",
    "kp = sp.simplify(kp)\n",
    "\n",
    "dof = 2\n",
    "vecudof = sp.zeros(6, 1)\n",
    "if k[dof, dof] != 0.0:\n",
    "    vecudof[dof] = q[dof] / k[dof, dof]\n",
    "else:\n",
    "    raise ZeroDivisionError(f\"El término k[{dof},{dof}] es cero, no se puede aplicar release.\")\n",
    "\n",
    "# Nuevo vector de cargas con liberación\n",
    "qp = q - k @ vecudof\n",
    "qp = sp.simplify(qp)"
   ]
  },
  {
   "cell_type": "code",
   "execution_count": 6,
   "id": "276ae794",
   "metadata": {},
   "outputs": [
    {
     "data": {
      "text/latex": [
       "$\\displaystyle \\left[\\begin{matrix}\\frac{A E}{L} & 0 & 0 & - \\frac{A E}{L} & 0 & 0\\\\0 & \\frac{12 E I}{L^{3} \\left(\\phi + 4\\right)} & 0 & 0 & - \\frac{12 E I}{L^{3} \\left(\\phi + 4\\right)} & \\frac{12 E I}{L^{2} \\left(\\phi + 4\\right)}\\\\0 & 0 & 0 & 0 & 0 & 0\\\\- \\frac{A E}{L} & 0 & 0 & \\frac{A E}{L} & 0 & 0\\\\0 & - \\frac{12 E I}{L^{3} \\left(\\phi + 4\\right)} & 0 & 0 & \\frac{12 E I}{L^{3} \\left(\\phi + 4\\right)} & - \\frac{12 E I}{L^{2} \\left(\\phi + 4\\right)}\\\\0 & \\frac{12 E I}{L^{2} \\left(\\phi + 4\\right)} & 0 & 0 & - \\frac{12 E I}{L^{2} \\left(\\phi + 4\\right)} & \\frac{12 E I}{L \\left(\\phi + 4\\right)}\\end{matrix}\\right]$"
      ],
      "text/plain": [
       "Matrix([\n",
       "[ A*E/L,                        0, 0, -A*E/L,                        0,                        0],\n",
       "[     0,  12*E*I/(L**3*(phi + 4)), 0,      0, -12*E*I/(L**3*(phi + 4)),  12*E*I/(L**2*(phi + 4))],\n",
       "[     0,                        0, 0,      0,                        0,                        0],\n",
       "[-A*E/L,                        0, 0,  A*E/L,                        0,                        0],\n",
       "[     0, -12*E*I/(L**3*(phi + 4)), 0,      0,  12*E*I/(L**3*(phi + 4)), -12*E*I/(L**2*(phi + 4))],\n",
       "[     0,  12*E*I/(L**2*(phi + 4)), 0,      0, -12*E*I/(L**2*(phi + 4)),     12*E*I/(L*(phi + 4))]])"
      ]
     },
     "execution_count": 6,
     "metadata": {},
     "output_type": "execute_result"
    }
   ],
   "source": [
    "kp"
   ]
  },
  {
   "cell_type": "code",
   "execution_count": 7,
   "id": "569d6dfc",
   "metadata": {},
   "outputs": [
    {
     "data": {
      "text/latex": [
       "$\\displaystyle \\left[\\begin{matrix}\\frac{L \\left(2 p_{i} + p_{j}\\right)}{6}\\\\\\frac{L \\left(5 L a \\phi + 12 L a + 15 b \\phi + 45 b\\right)}{30 \\left(\\phi + 4\\right)}\\\\0\\\\\\frac{L \\left(p_{i} + 2 p_{j}\\right)}{6}\\\\\\frac{L \\left(10 L a \\phi + 48 L a + 15 b \\phi + 75 b\\right)}{30 \\left(\\phi + 4\\right)}\\\\\\frac{L^{2} \\left(- 8 L a - 15 b\\right)}{30 \\left(\\phi + 4\\right)}\\end{matrix}\\right]$"
      ],
      "text/plain": [
       "Matrix([\n",
       "[                                       L*(2*p_i + p_j)/6],\n",
       "[ L*(5*L*a*phi + 12*L*a + 15*b*phi + 45*b)/(30*(phi + 4))],\n",
       "[                                                       0],\n",
       "[                                       L*(p_i + 2*p_j)/6],\n",
       "[L*(10*L*a*phi + 48*L*a + 15*b*phi + 75*b)/(30*(phi + 4))],\n",
       "[                     L**2*(-8*L*a - 15*b)/(30*(phi + 4))]])"
      ]
     },
     "execution_count": 7,
     "metadata": {},
     "output_type": "execute_result"
    }
   ],
   "source": [
    "qp"
   ]
  },
  {
   "cell_type": "markdown",
   "id": "31bcf615",
   "metadata": {},
   "source": [
    "### **rotacion final**"
   ]
  },
  {
   "cell_type": "code",
   "execution_count": 8,
   "id": "59576d53",
   "metadata": {},
   "outputs": [],
   "source": [
    "freeDof = [5]\n",
    "\n",
    "k1 = k[:,freeDof]\n",
    "k2 = k[freeDof,:]\n",
    "k3 = sp.Matrix([k[freeDof,freeDof]])\n",
    "invk3 = sp.Inverse(k3)\n",
    "kp = k - k1 @ invk3 @ k2\n",
    "kp = sp.simplify(kp)\n",
    "\n",
    "dof = 5\n",
    "vecudof = sp.zeros(6, 1)\n",
    "if k[dof, dof] != 0.0:\n",
    "    vecudof[dof] = q[dof] / k[dof, dof]\n",
    "else:\n",
    "    raise ZeroDivisionError(f\"El término k[{dof},{dof}] es cero, no se puede aplicar release.\")\n",
    "\n",
    "# Nuevo vector de cargas con liberación\n",
    "qp = q - k @ vecudof\n",
    "qp = sp.simplify(qp)"
   ]
  },
  {
   "cell_type": "code",
   "execution_count": 9,
   "id": "09c5feae",
   "metadata": {},
   "outputs": [
    {
     "data": {
      "text/latex": [
       "$\\displaystyle \\left[\\begin{matrix}\\frac{A E}{L} & 0 & 0 & - \\frac{A E}{L} & 0 & 0\\\\0 & \\frac{12 E I}{L^{3} \\left(\\phi + 4\\right)} & \\frac{12 E I}{L^{2} \\left(\\phi + 4\\right)} & 0 & - \\frac{12 E I}{L^{3} \\left(\\phi + 4\\right)} & 0\\\\0 & \\frac{12 E I}{L^{2} \\left(\\phi + 4\\right)} & \\frac{12 E I}{L \\left(\\phi + 4\\right)} & 0 & - \\frac{12 E I}{L^{2} \\left(\\phi + 4\\right)} & 0\\\\- \\frac{A E}{L} & 0 & 0 & \\frac{A E}{L} & 0 & 0\\\\0 & - \\frac{12 E I}{L^{3} \\left(\\phi + 4\\right)} & - \\frac{12 E I}{L^{2} \\left(\\phi + 4\\right)} & 0 & \\frac{12 E I}{L^{3} \\left(\\phi + 4\\right)} & 0\\\\0 & 0 & 0 & 0 & 0 & 0\\end{matrix}\\right]$"
      ],
      "text/plain": [
       "Matrix([\n",
       "[ A*E/L,                        0,                        0, -A*E/L,                        0, 0],\n",
       "[     0,  12*E*I/(L**3*(phi + 4)),  12*E*I/(L**2*(phi + 4)),      0, -12*E*I/(L**3*(phi + 4)), 0],\n",
       "[     0,  12*E*I/(L**2*(phi + 4)),     12*E*I/(L*(phi + 4)),      0, -12*E*I/(L**2*(phi + 4)), 0],\n",
       "[-A*E/L,                        0,                        0,  A*E/L,                        0, 0],\n",
       "[     0, -12*E*I/(L**3*(phi + 4)), -12*E*I/(L**2*(phi + 4)),      0,  12*E*I/(L**3*(phi + 4)), 0],\n",
       "[     0,                        0,                        0,      0,                        0, 0]])"
      ]
     },
     "execution_count": 9,
     "metadata": {},
     "output_type": "execute_result"
    }
   ],
   "source": [
    "kp"
   ]
  },
  {
   "cell_type": "code",
   "execution_count": 10,
   "id": "c3b43848",
   "metadata": {},
   "outputs": [
    {
     "data": {
      "text/latex": [
       "$\\displaystyle \\left[\\begin{matrix}\\frac{L \\left(2 p_{i} + p_{j}\\right)}{6}\\\\\\frac{L \\left(5 L a \\phi + 27 L a + 15 b \\phi + 75 b\\right)}{30 \\left(\\phi + 4\\right)}\\\\\\frac{L^{2} \\left(7 L a + 15 b\\right)}{30 \\left(\\phi + 4\\right)}\\\\\\frac{L \\left(p_{i} + 2 p_{j}\\right)}{6}\\\\\\frac{L \\left(10 L a \\phi + 33 L a + 15 b \\phi + 45 b\\right)}{30 \\left(\\phi + 4\\right)}\\\\0\\end{matrix}\\right]$"
      ],
      "text/plain": [
       "Matrix([\n",
       "[                                       L*(2*p_i + p_j)/6],\n",
       "[ L*(5*L*a*phi + 27*L*a + 15*b*phi + 75*b)/(30*(phi + 4))],\n",
       "[                      L**2*(7*L*a + 15*b)/(30*(phi + 4))],\n",
       "[                                       L*(p_i + 2*p_j)/6],\n",
       "[L*(10*L*a*phi + 33*L*a + 15*b*phi + 45*b)/(30*(phi + 4))],\n",
       "[                                                       0]])"
      ]
     },
     "execution_count": 10,
     "metadata": {},
     "output_type": "execute_result"
    }
   ],
   "source": [
    "qp"
   ]
  },
  {
   "cell_type": "markdown",
   "id": "cad8972e",
   "metadata": {},
   "source": [
    "### **ambos rotaciones**"
   ]
  },
  {
   "cell_type": "code",
   "execution_count": 11,
   "id": "3614d553",
   "metadata": {},
   "outputs": [],
   "source": [
    "\n",
    "dof = 2\n",
    "vecudof = sp.zeros(6, 1)\n",
    "if kp[dof, dof] != 0.0:\n",
    "    vecudof[dof] = qp[dof] / kp[dof, dof]\n",
    "else:\n",
    "    raise ZeroDivisionError(f\"El término k[{dof},{dof}] es cero, no se puede aplicar release.\")\n",
    "\n",
    "# Nuevo vector de cargas con liberación\n",
    "qp = qp - kp @ vecudof\n",
    "qp = sp.simplify(qp)\n",
    "\n",
    "\n",
    "freeDof = [2, 5]\n",
    "\n",
    "k1 = k[:,freeDof]\n",
    "k2 = k[freeDof,:]\n",
    "k3 = sp.Matrix([k[freeDof,freeDof]])\n",
    "invk3 = sp.Inverse(k3)\n",
    "kp = k - k1 @ invk3 @ k2\n",
    "kp = sp.simplify(kp)\n"
   ]
  },
  {
   "cell_type": "code",
   "execution_count": 12,
   "id": "c782d045",
   "metadata": {},
   "outputs": [
    {
     "data": {
      "text/latex": [
       "$\\displaystyle \\left[\\begin{matrix}\\frac{A E}{L} & 0 & 0 & - \\frac{A E}{L} & 0 & 0\\\\0 & 0 & 0 & 0 & 0 & 0\\\\0 & 0 & 0 & 0 & 0 & 0\\\\- \\frac{A E}{L} & 0 & 0 & \\frac{A E}{L} & 0 & 0\\\\0 & 0 & 0 & 0 & 0 & 0\\\\0 & 0 & 0 & 0 & 0 & 0\\end{matrix}\\right]$"
      ],
      "text/plain": [
       "Matrix([\n",
       "[ A*E/L, 0, 0, -A*E/L, 0, 0],\n",
       "[     0, 0, 0,      0, 0, 0],\n",
       "[     0, 0, 0,      0, 0, 0],\n",
       "[-A*E/L, 0, 0,  A*E/L, 0, 0],\n",
       "[     0, 0, 0,      0, 0, 0],\n",
       "[     0, 0, 0,      0, 0, 0]])"
      ]
     },
     "execution_count": 12,
     "metadata": {},
     "output_type": "execute_result"
    }
   ],
   "source": [
    "kp"
   ]
  },
  {
   "cell_type": "code",
   "execution_count": 13,
   "id": "ea0399e5",
   "metadata": {},
   "outputs": [
    {
     "data": {
      "text/latex": [
       "$\\displaystyle \\left[\\begin{matrix}\\frac{L \\left(2 p_{i} + p_{j}\\right)}{6}\\\\\\frac{L \\left(L a + 3 b\\right)}{6}\\\\0\\\\\\frac{L \\left(p_{i} + 2 p_{j}\\right)}{6}\\\\\\frac{L \\left(2 L a + 3 b\\right)}{6}\\\\0\\end{matrix}\\right]$"
      ],
      "text/plain": [
       "Matrix([\n",
       "[L*(2*p_i + p_j)/6],\n",
       "[  L*(L*a + 3*b)/6],\n",
       "[                0],\n",
       "[L*(p_i + 2*p_j)/6],\n",
       "[L*(2*L*a + 3*b)/6],\n",
       "[                0]])"
      ]
     },
     "execution_count": 13,
     "metadata": {},
     "output_type": "execute_result"
    }
   ],
   "source": [
    "qp"
   ]
  },
  {
   "cell_type": "markdown",
   "id": "414a6f9f",
   "metadata": {},
   "source": [
    "## **Liberacion de axial (solo de pude uno de ellos)**"
   ]
  },
  {
   "cell_type": "markdown",
   "id": "f37995b1",
   "metadata": {},
   "source": [
    "### **axial inicial**"
   ]
  },
  {
   "cell_type": "code",
   "execution_count": 14,
   "id": "38eb2873",
   "metadata": {},
   "outputs": [],
   "source": [
    "freeDof = [0]\n",
    "\n",
    "k1 = k[:,freeDof]\n",
    "k2 = k[freeDof,:]\n",
    "k3 = sp.Matrix([k[freeDof,freeDof]])\n",
    "invk3 = sp.Inverse(k3)\n",
    "kp = k - k1 @ invk3 @ k2\n",
    "kp = sp.simplify(kp)\n",
    "\n",
    "dof = 0\n",
    "vecudof = sp.zeros(6, 1)\n",
    "if k[dof, dof] != 0.0:\n",
    "    vecudof[dof] = q[dof] / k[dof, dof]\n",
    "else:\n",
    "    raise ZeroDivisionError(f\"El término k[{dof},{dof}] es cero, no se puede aplicar release.\")\n",
    "\n",
    "# Nuevo vector de cargas con liberación\n",
    "qp = q - k @ vecudof\n",
    "qp = sp.simplify(qp)"
   ]
  },
  {
   "cell_type": "code",
   "execution_count": 15,
   "id": "ba5c4a61",
   "metadata": {},
   "outputs": [
    {
     "data": {
      "text/latex": [
       "$\\displaystyle \\left[\\begin{matrix}0 & 0 & 0 & 0 & 0 & 0\\\\0 & \\frac{12 E I}{L^{3} \\left(\\phi + 1\\right)} & \\frac{6 E I}{L^{2} \\left(\\phi + 1\\right)} & 0 & - \\frac{12 E I}{L^{3} \\left(\\phi + 1\\right)} & \\frac{6 E I}{L^{2} \\left(\\phi + 1\\right)}\\\\0 & \\frac{6 E I}{L^{2} \\left(\\phi + 1\\right)} & \\frac{E I \\left(\\phi + 4\\right)}{L \\left(\\phi + 1\\right)} & 0 & - \\frac{6 E I}{L^{2} \\left(\\phi + 1\\right)} & \\frac{E I \\left(2 - \\phi\\right)}{L \\left(\\phi + 1\\right)}\\\\0 & 0 & 0 & 0 & 0 & 0\\\\0 & - \\frac{12 E I}{L^{3} \\left(\\phi + 1\\right)} & - \\frac{6 E I}{L^{2} \\left(\\phi + 1\\right)} & 0 & \\frac{12 E I}{L^{3} \\left(\\phi + 1\\right)} & - \\frac{6 E I}{L^{2} \\left(\\phi + 1\\right)}\\\\0 & \\frac{6 E I}{L^{2} \\left(\\phi + 1\\right)} & \\frac{E I \\left(2 - \\phi\\right)}{L \\left(\\phi + 1\\right)} & 0 & - \\frac{6 E I}{L^{2} \\left(\\phi + 1\\right)} & \\frac{E I \\left(\\phi + 4\\right)}{L \\left(\\phi + 1\\right)}\\end{matrix}\\right]$"
      ],
      "text/plain": [
       "Matrix([\n",
       "[0,                        0,                           0, 0,                        0,                           0],\n",
       "[0,  12*E*I/(L**3*(phi + 1)),      6*E*I/(L**2*(phi + 1)), 0, -12*E*I/(L**3*(phi + 1)),      6*E*I/(L**2*(phi + 1))],\n",
       "[0,   6*E*I/(L**2*(phi + 1)), E*I*(phi + 4)/(L*(phi + 1)), 0,  -6*E*I/(L**2*(phi + 1)), E*I*(2 - phi)/(L*(phi + 1))],\n",
       "[0,                        0,                           0, 0,                        0,                           0],\n",
       "[0, -12*E*I/(L**3*(phi + 1)),     -6*E*I/(L**2*(phi + 1)), 0,  12*E*I/(L**3*(phi + 1)),     -6*E*I/(L**2*(phi + 1))],\n",
       "[0,   6*E*I/(L**2*(phi + 1)), E*I*(2 - phi)/(L*(phi + 1)), 0,  -6*E*I/(L**2*(phi + 1)), E*I*(phi + 4)/(L*(phi + 1))]])"
      ]
     },
     "execution_count": 15,
     "metadata": {},
     "output_type": "execute_result"
    }
   ],
   "source": [
    "kp"
   ]
  },
  {
   "cell_type": "code",
   "execution_count": 16,
   "id": "295bc624",
   "metadata": {},
   "outputs": [
    {
     "data": {
      "text/latex": [
       "$\\displaystyle \\left[\\begin{matrix}0\\\\\\frac{L \\left(L a \\left(10 \\phi + 9\\right) + 30 b \\left(\\phi + 1\\right)\\right)}{60 \\left(\\phi + 1\\right)}\\\\\\frac{L^{2} \\left(L a \\left(5 \\phi + 4\\right) + 10 b \\left(\\phi + 1\\right)\\right)}{120 \\left(\\phi + 1\\right)}\\\\\\frac{L \\left(p_{i} + p_{j}\\right)}{2}\\\\\\frac{L \\left(L a \\left(20 \\phi + 21\\right) + 30 b \\left(\\phi + 1\\right)\\right)}{60 \\left(\\phi + 1\\right)}\\\\\\frac{L^{2} \\left(- L a \\left(5 \\phi + 6\\right) - 10 b \\left(\\phi + 1\\right)\\right)}{120 \\left(\\phi + 1\\right)}\\end{matrix}\\right]$"
      ],
      "text/plain": [
       "Matrix([\n",
       "[                                                       0],\n",
       "[    L*(L*a*(10*phi + 9) + 30*b*(phi + 1))/(60*(phi + 1))],\n",
       "[ L**2*(L*a*(5*phi + 4) + 10*b*(phi + 1))/(120*(phi + 1))],\n",
       "[                                         L*(p_i + p_j)/2],\n",
       "[   L*(L*a*(20*phi + 21) + 30*b*(phi + 1))/(60*(phi + 1))],\n",
       "[L**2*(-L*a*(5*phi + 6) - 10*b*(phi + 1))/(120*(phi + 1))]])"
      ]
     },
     "execution_count": 16,
     "metadata": {},
     "output_type": "execute_result"
    }
   ],
   "source": [
    "qp"
   ]
  },
  {
   "cell_type": "markdown",
   "id": "d18e6b7c",
   "metadata": {},
   "source": [
    "### **Axial final**"
   ]
  },
  {
   "cell_type": "code",
   "execution_count": 17,
   "id": "ea39ee7d",
   "metadata": {},
   "outputs": [],
   "source": [
    "freeDof = [3]\n",
    "\n",
    "k1 = k[:,freeDof]\n",
    "k2 = k[freeDof,:]\n",
    "k3 = sp.Matrix([k[freeDof,freeDof]])\n",
    "invk3 = sp.Inverse(k3)\n",
    "kp = k - k1 @ invk3 @ k2\n",
    "kp = sp.simplify(kp)\n",
    "\n",
    "dof = 3\n",
    "vecudof = sp.zeros(6, 1)\n",
    "if k[dof, dof] != 0.0:\n",
    "    vecudof[dof] = q[dof] / k[dof, dof]\n",
    "else:\n",
    "    raise ZeroDivisionError(f\"El término k[{dof},{dof}] es cero, no se puede aplicar release.\")\n",
    "\n",
    "# Nuevo vector de cargas con liberación\n",
    "qp = q - k @ vecudof\n",
    "qp = sp.simplify(qp)"
   ]
  },
  {
   "cell_type": "code",
   "execution_count": 18,
   "id": "a61dbce9",
   "metadata": {},
   "outputs": [
    {
     "data": {
      "text/latex": [
       "$\\displaystyle \\left[\\begin{matrix}0 & 0 & 0 & 0 & 0 & 0\\\\0 & \\frac{12 E I}{L^{3} \\left(\\phi + 1\\right)} & \\frac{6 E I}{L^{2} \\left(\\phi + 1\\right)} & 0 & - \\frac{12 E I}{L^{3} \\left(\\phi + 1\\right)} & \\frac{6 E I}{L^{2} \\left(\\phi + 1\\right)}\\\\0 & \\frac{6 E I}{L^{2} \\left(\\phi + 1\\right)} & \\frac{E I \\left(\\phi + 4\\right)}{L \\left(\\phi + 1\\right)} & 0 & - \\frac{6 E I}{L^{2} \\left(\\phi + 1\\right)} & \\frac{E I \\left(2 - \\phi\\right)}{L \\left(\\phi + 1\\right)}\\\\0 & 0 & 0 & 0 & 0 & 0\\\\0 & - \\frac{12 E I}{L^{3} \\left(\\phi + 1\\right)} & - \\frac{6 E I}{L^{2} \\left(\\phi + 1\\right)} & 0 & \\frac{12 E I}{L^{3} \\left(\\phi + 1\\right)} & - \\frac{6 E I}{L^{2} \\left(\\phi + 1\\right)}\\\\0 & \\frac{6 E I}{L^{2} \\left(\\phi + 1\\right)} & \\frac{E I \\left(2 - \\phi\\right)}{L \\left(\\phi + 1\\right)} & 0 & - \\frac{6 E I}{L^{2} \\left(\\phi + 1\\right)} & \\frac{E I \\left(\\phi + 4\\right)}{L \\left(\\phi + 1\\right)}\\end{matrix}\\right]$"
      ],
      "text/plain": [
       "Matrix([\n",
       "[0,                        0,                           0, 0,                        0,                           0],\n",
       "[0,  12*E*I/(L**3*(phi + 1)),      6*E*I/(L**2*(phi + 1)), 0, -12*E*I/(L**3*(phi + 1)),      6*E*I/(L**2*(phi + 1))],\n",
       "[0,   6*E*I/(L**2*(phi + 1)), E*I*(phi + 4)/(L*(phi + 1)), 0,  -6*E*I/(L**2*(phi + 1)), E*I*(2 - phi)/(L*(phi + 1))],\n",
       "[0,                        0,                           0, 0,                        0,                           0],\n",
       "[0, -12*E*I/(L**3*(phi + 1)),     -6*E*I/(L**2*(phi + 1)), 0,  12*E*I/(L**3*(phi + 1)),     -6*E*I/(L**2*(phi + 1))],\n",
       "[0,   6*E*I/(L**2*(phi + 1)), E*I*(2 - phi)/(L*(phi + 1)), 0,  -6*E*I/(L**2*(phi + 1)), E*I*(phi + 4)/(L*(phi + 1))]])"
      ]
     },
     "execution_count": 18,
     "metadata": {},
     "output_type": "execute_result"
    }
   ],
   "source": [
    "kp"
   ]
  },
  {
   "cell_type": "code",
   "execution_count": 19,
   "id": "eb40e645",
   "metadata": {},
   "outputs": [
    {
     "data": {
      "text/latex": [
       "$\\displaystyle \\left[\\begin{matrix}\\frac{L \\left(p_{i} + p_{j}\\right)}{2}\\\\\\frac{L \\left(L a \\left(10 \\phi + 9\\right) + 30 b \\left(\\phi + 1\\right)\\right)}{60 \\left(\\phi + 1\\right)}\\\\\\frac{L^{2} \\left(L a \\left(5 \\phi + 4\\right) + 10 b \\left(\\phi + 1\\right)\\right)}{120 \\left(\\phi + 1\\right)}\\\\0\\\\\\frac{L \\left(L a \\left(20 \\phi + 21\\right) + 30 b \\left(\\phi + 1\\right)\\right)}{60 \\left(\\phi + 1\\right)}\\\\\\frac{L^{2} \\left(- L a \\left(5 \\phi + 6\\right) - 10 b \\left(\\phi + 1\\right)\\right)}{120 \\left(\\phi + 1\\right)}\\end{matrix}\\right]$"
      ],
      "text/plain": [
       "Matrix([\n",
       "[                                         L*(p_i + p_j)/2],\n",
       "[    L*(L*a*(10*phi + 9) + 30*b*(phi + 1))/(60*(phi + 1))],\n",
       "[ L**2*(L*a*(5*phi + 4) + 10*b*(phi + 1))/(120*(phi + 1))],\n",
       "[                                                       0],\n",
       "[   L*(L*a*(20*phi + 21) + 30*b*(phi + 1))/(60*(phi + 1))],\n",
       "[L**2*(-L*a*(5*phi + 6) - 10*b*(phi + 1))/(120*(phi + 1))]])"
      ]
     },
     "execution_count": 19,
     "metadata": {},
     "output_type": "execute_result"
    }
   ],
   "source": [
    "qp"
   ]
  },
  {
   "cell_type": "markdown",
   "id": "26f27dbe",
   "metadata": {},
   "source": [
    "## **LIBERACION DE CORTANTES**"
   ]
  },
  {
   "cell_type": "markdown",
   "id": "07bc9ffb",
   "metadata": {},
   "source": [
    "### **cortante inicial**"
   ]
  },
  {
   "cell_type": "code",
   "execution_count": 21,
   "id": "1e5c6cf8",
   "metadata": {},
   "outputs": [],
   "source": [
    "freeDof = [1]\n",
    "\n",
    "k1 = k[:,freeDof]\n",
    "k2 = k[freeDof,:]\n",
    "k3 = sp.Matrix([k[freeDof,freeDof]])\n",
    "invk3 = sp.Inverse(k3)\n",
    "kp = k - k1 @ invk3 @ k2\n",
    "kp = sp.simplify(kp)\n",
    "\n",
    "dof = 1\n",
    "vecudof = sp.zeros(6, 1)\n",
    "if k[dof, dof] != 0.0:\n",
    "    vecudof[dof] = q[dof] / k[dof, dof]\n",
    "else:\n",
    "    raise ZeroDivisionError(f\"El término k[{dof},{dof}] es cero, no se puede aplicar release.\")\n",
    "\n",
    "# Nuevo vector de cargas con liberación\n",
    "qp = q - k @ vecudof\n",
    "qp = sp.simplify(qp)"
   ]
  },
  {
   "cell_type": "code",
   "execution_count": 22,
   "id": "979d549d",
   "metadata": {},
   "outputs": [
    {
     "data": {
      "text/latex": [
       "$\\displaystyle \\left[\\begin{matrix}\\frac{A E}{L} & 0 & 0 & - \\frac{A E}{L} & 0 & 0\\\\0 & 0 & 0 & 0 & 0 & 0\\\\0 & 0 & \\frac{E I}{L} & 0 & 0 & - \\frac{E I}{L}\\\\- \\frac{A E}{L} & 0 & 0 & \\frac{A E}{L} & 0 & 0\\\\0 & 0 & 0 & 0 & 0 & 0\\\\0 & 0 & - \\frac{E I}{L} & 0 & 0 & \\frac{E I}{L}\\end{matrix}\\right]$"
      ],
      "text/plain": [
       "Matrix([\n",
       "[ A*E/L, 0,      0, -A*E/L, 0,      0],\n",
       "[     0, 0,      0,      0, 0,      0],\n",
       "[     0, 0,  E*I/L,      0, 0, -E*I/L],\n",
       "[-A*E/L, 0,      0,  A*E/L, 0,      0],\n",
       "[     0, 0,      0,      0, 0,      0],\n",
       "[     0, 0, -E*I/L,      0, 0,  E*I/L]])"
      ]
     },
     "execution_count": 22,
     "metadata": {},
     "output_type": "execute_result"
    }
   ],
   "source": [
    "kp"
   ]
  },
  {
   "cell_type": "code",
   "execution_count": 23,
   "id": "179d8423",
   "metadata": {},
   "outputs": [
    {
     "data": {
      "text/latex": [
       "$\\displaystyle \\left[\\begin{matrix}\\frac{L \\left(2 p_{i} + p_{j}\\right)}{6}\\\\0\\\\\\frac{L^{2} \\left(- L a - 4 b\\right)}{24}\\\\\\frac{L \\left(p_{i} + 2 p_{j}\\right)}{6}\\\\\\frac{L \\left(L a + 2 b\\right)}{2}\\\\L^{2} \\left(- \\frac{L a}{8} - \\frac{b}{3}\\right)\\end{matrix}\\right]$"
      ],
      "text/plain": [
       "Matrix([\n",
       "[   L*(2*p_i + p_j)/6],\n",
       "[                   0],\n",
       "[L**2*(-L*a - 4*b)/24],\n",
       "[   L*(p_i + 2*p_j)/6],\n",
       "[     L*(L*a + 2*b)/2],\n",
       "[ L**2*(-L*a/8 - b/3)]])"
      ]
     },
     "execution_count": 23,
     "metadata": {},
     "output_type": "execute_result"
    }
   ],
   "source": [
    "qp"
   ]
  },
  {
   "cell_type": "markdown",
   "id": "6211b044",
   "metadata": {},
   "source": [
    "### **cortante final**"
   ]
  },
  {
   "cell_type": "code",
   "execution_count": 24,
   "id": "99f6c29d",
   "metadata": {},
   "outputs": [],
   "source": [
    "freeDof = [4]\n",
    "\n",
    "k1 = k[:,freeDof]\n",
    "k2 = k[freeDof,:]\n",
    "k3 = sp.Matrix([k[freeDof,freeDof]])\n",
    "invk3 = sp.Inverse(k3)\n",
    "kp = k - k1 @ invk3 @ k2\n",
    "kp = sp.simplify(kp)\n",
    "\n",
    "dof = 4\n",
    "vecudof = sp.zeros(6, 1)\n",
    "if k[dof, dof] != 0.0:\n",
    "    vecudof[dof] = q[dof] / k[dof, dof]\n",
    "else:\n",
    "    raise ZeroDivisionError(f\"El término k[{dof},{dof}] es cero, no se puede aplicar release.\")\n",
    "\n",
    "# Nuevo vector de cargas con liberación\n",
    "qp = q - k @ vecudof\n",
    "qp = sp.simplify(qp)"
   ]
  },
  {
   "cell_type": "code",
   "execution_count": 25,
   "id": "612877df",
   "metadata": {},
   "outputs": [
    {
     "data": {
      "text/latex": [
       "$\\displaystyle \\left[\\begin{matrix}\\frac{A E}{L} & 0 & 0 & - \\frac{A E}{L} & 0 & 0\\\\0 & 0 & 0 & 0 & 0 & 0\\\\0 & 0 & \\frac{E I}{L} & 0 & 0 & - \\frac{E I}{L}\\\\- \\frac{A E}{L} & 0 & 0 & \\frac{A E}{L} & 0 & 0\\\\0 & 0 & 0 & 0 & 0 & 0\\\\0 & 0 & - \\frac{E I}{L} & 0 & 0 & \\frac{E I}{L}\\end{matrix}\\right]$"
      ],
      "text/plain": [
       "Matrix([\n",
       "[ A*E/L, 0,      0, -A*E/L, 0,      0],\n",
       "[     0, 0,      0,      0, 0,      0],\n",
       "[     0, 0,  E*I/L,      0, 0, -E*I/L],\n",
       "[-A*E/L, 0,      0,  A*E/L, 0,      0],\n",
       "[     0, 0,      0,      0, 0,      0],\n",
       "[     0, 0, -E*I/L,      0, 0,  E*I/L]])"
      ]
     },
     "execution_count": 25,
     "metadata": {},
     "output_type": "execute_result"
    }
   ],
   "source": [
    "kp"
   ]
  },
  {
   "cell_type": "code",
   "execution_count": 26,
   "id": "da8b2ce0",
   "metadata": {},
   "outputs": [
    {
     "data": {
      "text/latex": [
       "$\\displaystyle \\left[\\begin{matrix}\\frac{L \\left(2 p_{i} + p_{j}\\right)}{6}\\\\\\frac{L \\left(L a + 2 b\\right)}{2}\\\\\\frac{L^{2} \\left(5 L a + 8 b\\right)}{24}\\\\\\frac{L \\left(p_{i} + 2 p_{j}\\right)}{6}\\\\0\\\\L^{2} \\left(\\frac{L a}{8} + \\frac{b}{6}\\right)\\end{matrix}\\right]$"
      ],
      "text/plain": [
       "Matrix([\n",
       "[    L*(2*p_i + p_j)/6],\n",
       "[      L*(L*a + 2*b)/2],\n",
       "[L**2*(5*L*a + 8*b)/24],\n",
       "[    L*(p_i + 2*p_j)/6],\n",
       "[                    0],\n",
       "[   L**2*(L*a/8 + b/6)]])"
      ]
     },
     "execution_count": 26,
     "metadata": {},
     "output_type": "execute_result"
    }
   ],
   "source": [
    "qp"
   ]
  },
  {
   "cell_type": "markdown",
   "id": "1b5c29e1",
   "metadata": {},
   "source": [
    "### **cortante ambos**"
   ]
  },
  {
   "cell_type": "markdown",
   "id": "fc0c0f66",
   "metadata": {},
   "source": [
    "## **LIBERACIONES COMBINADAS**"
   ]
  },
  {
   "cell_type": "code",
   "execution_count": null,
   "id": "9f3dabf8",
   "metadata": {},
   "outputs": [],
   "source": [
    "freeDof = [0, 1, 5]\n",
    "\n",
    "k1 = k[:,freeDof]\n",
    "k2 = k[freeDof,:]\n",
    "k3 = sp.Matrix([k[freeDof,freeDof]])\n",
    "invk3 = sp.Inverse(k3)\n",
    "kp = k - k1 @ invk3 @ k2\n",
    "kp = sp.simplify(kp)\n",
    "\n",
    "dof = 4\n",
    "vecudof = sp.zeros(6, 1)\n",
    "if k[dof, dof] != 0.0:\n",
    "    vecudof[dof] = q[dof] / k[dof, dof]\n",
    "else:\n",
    "    raise ZeroDivisionError(f\"El término k[{dof},{dof}] es cero, no se puede aplicar release.\")\n",
    "\n",
    "# Nuevo vector de cargas con liberación\n",
    "qp = q - k @ vecudof\n",
    "qp = sp.simplify(qp)"
   ]
  },
  {
   "cell_type": "code",
   "execution_count": 33,
   "id": "fbb1165f",
   "metadata": {},
   "outputs": [
    {
     "data": {
      "text/latex": [
       "$\\displaystyle \\left[\\begin{matrix}0 & 0 & 0 & 0 & 0 & 0\\\\0 & 0 & 0 & 0 & 0 & 0\\\\0 & 0 & 0 & 0 & 0 & 0\\\\0 & 0 & 0 & 0 & 0 & 0\\\\0 & 0 & 0 & 0 & 0 & 0\\\\0 & 0 & 0 & 0 & 0 & 0\\end{matrix}\\right]$"
      ],
      "text/plain": [
       "Matrix([\n",
       "[0, 0, 0, 0, 0, 0],\n",
       "[0, 0, 0, 0, 0, 0],\n",
       "[0, 0, 0, 0, 0, 0],\n",
       "[0, 0, 0, 0, 0, 0],\n",
       "[0, 0, 0, 0, 0, 0],\n",
       "[0, 0, 0, 0, 0, 0]])"
      ]
     },
     "execution_count": 33,
     "metadata": {},
     "output_type": "execute_result"
    }
   ],
   "source": [
    "kp"
   ]
  }
 ],
 "metadata": {
  "kernelspec": {
   "display_name": "Python 3",
   "language": "python",
   "name": "python3"
  },
  "language_info": {
   "codemirror_mode": {
    "name": "ipython",
    "version": 3
   },
   "file_extension": ".py",
   "mimetype": "text/x-python",
   "name": "python",
   "nbconvert_exporter": "python",
   "pygments_lexer": "ipython3",
   "version": "3.10.11"
  }
 },
 "nbformat": 4,
 "nbformat_minor": 5
}
